{
 "cells": [
  {
   "cell_type": "code",
   "execution_count": 6,
   "id": "ee708936",
   "metadata": {},
   "outputs": [
    {
     "name": "stdout",
     "output_type": "stream",
     "text": [
      "Requirement already satisfied: pytube in c:\\softwares\\anaconda3\\lib\\site-packages (15.0.0)Note: you may need to restart the kernel to use updated packages.\n",
      "\n",
      "Requirement already satisfied: youtube-transcript-api in c:\\softwares\\anaconda3\\lib\\site-packages (1.2.2)\n",
      "Requirement already satisfied: defusedxml<0.8.0,>=0.7.1 in c:\\softwares\\anaconda3\\lib\\site-packages (from youtube-transcript-api) (0.7.1)\n",
      "Requirement already satisfied: requests in c:\\softwares\\anaconda3\\lib\\site-packages (from youtube-transcript-api) (2.32.3)\n",
      "Requirement already satisfied: charset-normalizer<4,>=2 in c:\\softwares\\anaconda3\\lib\\site-packages (from requests->youtube-transcript-api) (3.3.2)\n",
      "Requirement already satisfied: idna<4,>=2.5 in c:\\softwares\\anaconda3\\lib\\site-packages (from requests->youtube-transcript-api) (3.7)\n",
      "Requirement already satisfied: urllib3<3,>=1.21.1 in c:\\softwares\\anaconda3\\lib\\site-packages (from requests->youtube-transcript-api) (2.2.3)\n",
      "Requirement already satisfied: certifi>=2017.4.17 in c:\\softwares\\anaconda3\\lib\\site-packages (from requests->youtube-transcript-api) (2024.8.30)\n",
      "Note: you may need to restart the kernel to use updated packages.\n"
     ]
    }
   ],
   "source": [
    "%pip install --upgrade pytube\n",
    "\n",
    "%pip install --upgrade youtube-transcript-api"
   ]
  },
  {
   "cell_type": "code",
   "execution_count": 1,
   "id": "2e2dff28",
   "metadata": {},
   "outputs": [
    {
     "name": "stdout",
     "output_type": "stream",
     "text": [
      "Collecting langchain_groq\n",
      "  Using cached langchain_groq-0.3.7-py3-none-any.whl.metadata (2.6 kB)\n",
      "Collecting langchain_core\n",
      "  Using cached langchain_core-0.3.72-py3-none-any.whl.metadata (5.8 kB)\n",
      "Collecting yt_dlp\n",
      "  Using cached yt_dlp-2025.7.21-py3-none-any.whl.metadata (175 kB)\n",
      "Collecting langchain\n",
      "  Using cached langchain-0.3.27-py3-none-any.whl.metadata (7.8 kB)\n",
      "Requirement already satisfied: scikit-learn in c:\\softwares\\anaconda3\\lib\\site-packages (1.5.1)\n",
      "Collecting langchain_community\n",
      "  Using cached langchain_community-0.3.27-py3-none-any.whl.metadata (2.9 kB)\n",
      "Collecting groq<1,>=0.30.0 (from langchain_groq)\n",
      "  Using cached groq-0.31.0-py3-none-any.whl.metadata (16 kB)\n",
      "Collecting langsmith>=0.3.45 (from langchain_core)\n",
      "  Using cached langsmith-0.4.13-py3-none-any.whl.metadata (14 kB)\n",
      "Requirement already satisfied: tenacity!=8.4.0,<10.0.0,>=8.1.0 in c:\\softwares\\anaconda3\\lib\\site-packages (from langchain_core) (8.2.3)\n",
      "Requirement already satisfied: jsonpatch<2.0,>=1.33 in c:\\softwares\\anaconda3\\lib\\site-packages (from langchain_core) (1.33)\n",
      "Requirement already satisfied: PyYAML>=5.3 in c:\\softwares\\anaconda3\\lib\\site-packages (from langchain_core) (6.0.1)\n",
      "Requirement already satisfied: typing-extensions>=4.7 in c:\\softwares\\anaconda3\\lib\\site-packages (from langchain_core) (4.11.0)\n",
      "Requirement already satisfied: packaging>=23.2 in c:\\softwares\\anaconda3\\lib\\site-packages (from langchain_core) (24.1)\n",
      "Requirement already satisfied: pydantic>=2.7.4 in c:\\softwares\\anaconda3\\lib\\site-packages (from langchain_core) (2.8.2)\n",
      "Collecting langchain-text-splitters<1.0.0,>=0.3.9 (from langchain)\n",
      "  Using cached langchain_text_splitters-0.3.9-py3-none-any.whl.metadata (1.9 kB)\n",
      "Requirement already satisfied: SQLAlchemy<3,>=1.4 in c:\\softwares\\anaconda3\\lib\\site-packages (from langchain) (2.0.34)\n",
      "Requirement already satisfied: requests<3,>=2 in c:\\softwares\\anaconda3\\lib\\site-packages (from langchain) (2.32.3)\n",
      "Requirement already satisfied: numpy>=1.19.5 in c:\\softwares\\anaconda3\\lib\\site-packages (from scikit-learn) (1.26.4)\n",
      "Requirement already satisfied: scipy>=1.6.0 in c:\\softwares\\anaconda3\\lib\\site-packages (from scikit-learn) (1.13.1)\n",
      "Requirement already satisfied: joblib>=1.2.0 in c:\\softwares\\anaconda3\\lib\\site-packages (from scikit-learn) (1.4.2)\n",
      "Requirement already satisfied: threadpoolctl>=3.1.0 in c:\\softwares\\anaconda3\\lib\\site-packages (from scikit-learn) (3.5.0)\n",
      "Requirement already satisfied: aiohttp<4.0.0,>=3.8.3 in c:\\softwares\\anaconda3\\lib\\site-packages (from langchain_community) (3.10.5)\n",
      "Collecting dataclasses-json<0.7,>=0.5.7 (from langchain_community)\n",
      "  Using cached dataclasses_json-0.6.7-py3-none-any.whl.metadata (25 kB)\n",
      "Collecting pydantic-settings<3.0.0,>=2.4.0 (from langchain_community)\n",
      "  Using cached pydantic_settings-2.10.1-py3-none-any.whl.metadata (3.4 kB)\n",
      "Collecting httpx-sse<1.0.0,>=0.4.0 (from langchain_community)\n",
      "  Using cached httpx_sse-0.4.1-py3-none-any.whl.metadata (9.4 kB)\n",
      "Requirement already satisfied: aiohappyeyeballs>=2.3.0 in c:\\softwares\\anaconda3\\lib\\site-packages (from aiohttp<4.0.0,>=3.8.3->langchain_community) (2.4.0)\n",
      "Requirement already satisfied: aiosignal>=1.1.2 in c:\\softwares\\anaconda3\\lib\\site-packages (from aiohttp<4.0.0,>=3.8.3->langchain_community) (1.2.0)\n",
      "Requirement already satisfied: attrs>=17.3.0 in c:\\softwares\\anaconda3\\lib\\site-packages (from aiohttp<4.0.0,>=3.8.3->langchain_community) (23.1.0)\n",
      "Requirement already satisfied: frozenlist>=1.1.1 in c:\\softwares\\anaconda3\\lib\\site-packages (from aiohttp<4.0.0,>=3.8.3->langchain_community) (1.4.0)\n",
      "Requirement already satisfied: multidict<7.0,>=4.5 in c:\\softwares\\anaconda3\\lib\\site-packages (from aiohttp<4.0.0,>=3.8.3->langchain_community) (6.0.4)\n",
      "Requirement already satisfied: yarl<2.0,>=1.0 in c:\\softwares\\anaconda3\\lib\\site-packages (from aiohttp<4.0.0,>=3.8.3->langchain_community) (1.11.0)\n",
      "Collecting marshmallow<4.0.0,>=3.18.0 (from dataclasses-json<0.7,>=0.5.7->langchain_community)\n",
      "  Using cached marshmallow-3.26.1-py3-none-any.whl.metadata (7.3 kB)\n",
      "Collecting typing-inspect<1,>=0.4.0 (from dataclasses-json<0.7,>=0.5.7->langchain_community)\n",
      "  Using cached typing_inspect-0.9.0-py3-none-any.whl.metadata (1.5 kB)\n",
      "Requirement already satisfied: anyio<5,>=3.5.0 in c:\\softwares\\anaconda3\\lib\\site-packages (from groq<1,>=0.30.0->langchain_groq) (4.2.0)\n",
      "Requirement already satisfied: distro<2,>=1.7.0 in c:\\softwares\\anaconda3\\lib\\site-packages (from groq<1,>=0.30.0->langchain_groq) (1.9.0)\n",
      "Requirement already satisfied: httpx<1,>=0.23.0 in c:\\softwares\\anaconda3\\lib\\site-packages (from groq<1,>=0.30.0->langchain_groq) (0.27.0)\n",
      "Requirement already satisfied: sniffio in c:\\softwares\\anaconda3\\lib\\site-packages (from groq<1,>=0.30.0->langchain_groq) (1.3.0)\n",
      "Requirement already satisfied: jsonpointer>=1.9 in c:\\softwares\\anaconda3\\lib\\site-packages (from jsonpatch<2.0,>=1.33->langchain_core) (2.1)\n",
      "Collecting orjson>=3.9.14 (from langsmith>=0.3.45->langchain_core)\n",
      "  Downloading orjson-3.11.1-cp312-cp312-win_amd64.whl.metadata (43 kB)\n",
      "Requirement already satisfied: requests-toolbelt>=1.0.0 in c:\\softwares\\anaconda3\\lib\\site-packages (from langsmith>=0.3.45->langchain_core) (1.0.0)\n",
      "Requirement already satisfied: zstandard>=0.23.0 in c:\\softwares\\anaconda3\\lib\\site-packages (from langsmith>=0.3.45->langchain_core) (0.23.0)\n",
      "Requirement already satisfied: annotated-types>=0.4.0 in c:\\softwares\\anaconda3\\lib\\site-packages (from pydantic>=2.7.4->langchain_core) (0.6.0)\n",
      "Requirement already satisfied: pydantic-core==2.20.1 in c:\\softwares\\anaconda3\\lib\\site-packages (from pydantic>=2.7.4->langchain_core) (2.20.1)\n",
      "Requirement already satisfied: python-dotenv>=0.21.0 in c:\\softwares\\anaconda3\\lib\\site-packages (from pydantic-settings<3.0.0,>=2.4.0->langchain_community) (0.21.0)\n",
      "Collecting typing-inspection>=0.4.0 (from pydantic-settings<3.0.0,>=2.4.0->langchain_community)\n",
      "  Using cached typing_inspection-0.4.1-py3-none-any.whl.metadata (2.6 kB)\n",
      "Requirement already satisfied: charset-normalizer<4,>=2 in c:\\softwares\\anaconda3\\lib\\site-packages (from requests<3,>=2->langchain) (3.3.2)\n",
      "Requirement already satisfied: idna<4,>=2.5 in c:\\softwares\\anaconda3\\lib\\site-packages (from requests<3,>=2->langchain) (3.7)\n",
      "Requirement already satisfied: urllib3<3,>=1.21.1 in c:\\softwares\\anaconda3\\lib\\site-packages (from requests<3,>=2->langchain) (2.2.3)\n",
      "Requirement already satisfied: certifi>=2017.4.17 in c:\\softwares\\anaconda3\\lib\\site-packages (from requests<3,>=2->langchain) (2024.8.30)\n",
      "Requirement already satisfied: greenlet!=0.4.17 in c:\\softwares\\anaconda3\\lib\\site-packages (from SQLAlchemy<3,>=1.4->langchain) (3.0.1)\n",
      "Requirement already satisfied: httpcore==1.* in c:\\softwares\\anaconda3\\lib\\site-packages (from httpx<1,>=0.23.0->groq<1,>=0.30.0->langchain_groq) (1.0.2)\n",
      "Requirement already satisfied: h11<0.15,>=0.13 in c:\\softwares\\anaconda3\\lib\\site-packages (from httpcore==1.*->httpx<1,>=0.23.0->groq<1,>=0.30.0->langchain_groq) (0.14.0)\n",
      "Requirement already satisfied: mypy-extensions>=0.3.0 in c:\\softwares\\anaconda3\\lib\\site-packages (from typing-inspect<1,>=0.4.0->dataclasses-json<0.7,>=0.5.7->langchain_community) (1.0.0)\n",
      "Collecting typing-extensions>=4.7 (from langchain_core)\n",
      "  Using cached typing_extensions-4.14.1-py3-none-any.whl.metadata (3.0 kB)\n",
      "Using cached langchain_groq-0.3.7-py3-none-any.whl (16 kB)\n",
      "Using cached langchain_core-0.3.72-py3-none-any.whl (442 kB)\n",
      "Using cached yt_dlp-2025.7.21-py3-none-any.whl (3.3 MB)\n",
      "Using cached langchain-0.3.27-py3-none-any.whl (1.0 MB)\n",
      "Using cached langchain_community-0.3.27-py3-none-any.whl (2.5 MB)\n",
      "Using cached dataclasses_json-0.6.7-py3-none-any.whl (28 kB)\n",
      "Using cached groq-0.31.0-py3-none-any.whl (131 kB)\n",
      "Using cached httpx_sse-0.4.1-py3-none-any.whl (8.1 kB)\n",
      "Using cached langchain_text_splitters-0.3.9-py3-none-any.whl (33 kB)\n",
      "Using cached langsmith-0.4.13-py3-none-any.whl (372 kB)\n",
      "Using cached pydantic_settings-2.10.1-py3-none-any.whl (45 kB)\n",
      "Using cached marshmallow-3.26.1-py3-none-any.whl (50 kB)\n",
      "Downloading orjson-3.11.1-cp312-cp312-win_amd64.whl (131 kB)\n",
      "Using cached typing_inspect-0.9.0-py3-none-any.whl (8.8 kB)\n",
      "Using cached typing_inspection-0.4.1-py3-none-any.whl (14 kB)\n",
      "Using cached typing_extensions-4.14.1-py3-none-any.whl (43 kB)\n",
      "Installing collected packages: yt_dlp, typing-extensions, orjson, marshmallow, httpx-sse, typing-inspection, typing-inspect, dataclasses-json, pydantic-settings, langsmith, groq, langchain_core, langchain-text-splitters, langchain_groq, langchain, langchain_community\n",
      "  Attempting uninstall: typing-extensions\n",
      "    Found existing installation: typing_extensions 4.11.0\n",
      "    Uninstalling typing_extensions-4.11.0:\n",
      "      Successfully uninstalled typing_extensions-4.11.0\n",
      "Successfully installed dataclasses-json-0.6.7 groq-0.31.0 httpx-sse-0.4.1 langchain-0.3.27 langchain-text-splitters-0.3.9 langchain_community-0.3.27 langchain_core-0.3.72 langchain_groq-0.3.7 langsmith-0.4.13 marshmallow-3.26.1 orjson-3.11.1 pydantic-settings-2.10.1 typing-extensions-4.14.1 typing-inspect-0.9.0 typing-inspection-0.4.1 yt_dlp-2025.7.21\n",
      "Note: you may need to restart the kernel to use updated packages.\n"
     ]
    }
   ],
   "source": [
    "%pip install langchain_groq langchain_core yt_dlp langchain scikit-learn langchain_community"
   ]
  },
  {
   "cell_type": "code",
   "execution_count": 1,
   "id": "bf445170",
   "metadata": {},
   "outputs": [],
   "source": [
    "from langchain.prompts import PromptTemplate\n",
    "from langchain_groq import ChatGroq\n",
    "from langchain.chains.summarize import load_summarize_chain\n",
    "from langchain_community.document_loaders import YoutubeLoader,UnstructuredURLLoader"
   ]
  },
  {
   "cell_type": "code",
   "execution_count": 2,
   "id": "a6ff84f3",
   "metadata": {},
   "outputs": [],
   "source": [
    "## Gemma Model USsing Groq API\n",
    "llm =ChatGroq(model=\"Gemma-7b-It\", groq_api_key=\"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\")"
   ]
  },
  {
   "cell_type": "code",
   "execution_count": 3,
   "id": "6eb0abf3",
   "metadata": {},
   "outputs": [],
   "source": [
    "prompt_template=\"\"\"\n",
    "Provide a summary of the following content in 300 words:\n",
    "Content:{text}\n",
    "\n",
    "\"\"\"\n",
    "prompt=PromptTemplate(template=prompt_template,input_variables=[\"text\"])"
   ]
  },
  {
   "cell_type": "code",
   "execution_count": 7,
   "id": "70fd4eab",
   "metadata": {},
   "outputs": [],
   "source": [
    "\n",
    "loader=YoutubeLoader.from_youtube_url(\"https://www.youtube.com/watch?v=O2gerCxEXvc\",add_video_info=False)"
   ]
  },
  {
   "cell_type": "code",
   "execution_count": 8,
   "id": "9c4ff694",
   "metadata": {},
   "outputs": [
    {
     "ename": "AttributeError",
     "evalue": "type object 'YouTubeTranscriptApi' has no attribute 'list_transcripts'",
     "output_type": "error",
     "traceback": [
      "\u001b[1;31m---------------------------------------------------------------------------\u001b[0m",
      "\u001b[1;31mAttributeError\u001b[0m                            Traceback (most recent call last)",
      "Cell \u001b[1;32mIn[8], line 1\u001b[0m\n\u001b[1;32m----> 1\u001b[0m loader\u001b[38;5;241m.\u001b[39mload()\n",
      "File \u001b[1;32mc:\\Softwares\\anaconda3\\Lib\\site-packages\\langchain_community\\document_loaders\\youtube.py:262\u001b[0m, in \u001b[0;36mYoutubeLoader.load\u001b[1;34m(self)\u001b[0m\n\u001b[0;32m    259\u001b[0m     \u001b[38;5;28mself\u001b[39m\u001b[38;5;241m.\u001b[39m_metadata\u001b[38;5;241m.\u001b[39mupdate(video_info)\n\u001b[0;32m    261\u001b[0m \u001b[38;5;28;01mtry\u001b[39;00m:\n\u001b[1;32m--> 262\u001b[0m     transcript_list \u001b[38;5;241m=\u001b[39m YouTubeTranscriptApi\u001b[38;5;241m.\u001b[39mlist_transcripts(\u001b[38;5;28mself\u001b[39m\u001b[38;5;241m.\u001b[39mvideo_id)\n\u001b[0;32m    263\u001b[0m \u001b[38;5;28;01mexcept\u001b[39;00m TranscriptsDisabled:\n\u001b[0;32m    264\u001b[0m     \u001b[38;5;28;01mreturn\u001b[39;00m []\n",
      "\u001b[1;31mAttributeError\u001b[0m: type object 'YouTubeTranscriptApi' has no attribute 'list_transcripts'"
     ]
    }
   ],
   "source": [
    "loader.load()"
   ]
  },
  {
   "cell_type": "code",
   "execution_count": 1,
   "id": "6b9f4425",
   "metadata": {},
   "outputs": [
    {
     "name": "stdout",
     "output_type": "stream",
     "text": [
      "pytube 15.0.0\n",
      "youtube_transcript_api, version 1.2.2\n"
     ]
    }
   ],
   "source": [
    "!pytube --version\n",
    "!youtube_transcript_api --version"
   ]
  },
  {
   "cell_type": "code",
   "execution_count": null,
   "id": "8ef0b8f8",
   "metadata": {},
   "outputs": [
    {
     "data": {
      "text/plain": [
       "<youtube_transcript_api._transcripts.Transcript at 0x23df99f2d80>"
      ]
     },
     "execution_count": 11,
     "metadata": {},
     "output_type": "execute_result"
    }
   ],
   "source": [
    "from youtube_transcript_api import YouTubeTranscriptApi\n",
    "video_id = \"O2gerCxEXvc\"\n",
    "ytt_api = YouTubeTranscriptApi()\n",
    "transcript_list = ytt_api.list(video_id)\n",
    "transcript_list\n",
    "transcript = transcript_list.find_transcript(['de', 'en'])\n",
    "transcript\n",
    "# ytt_api = YouTubeTranscriptApi()\n",
    "# transcript = ytt_api.fetch(\"O2gerCxEXvc\")\n",
    "# full_text = \" \".join([t[\"text\"] for t in transcript])\n",
    "# full_text\n",
    "\n"
   ]
  }
 ],
 "metadata": {
  "kernelspec": {
   "display_name": "base",
   "language": "python",
   "name": "python3"
  },
  "language_info": {
   "codemirror_mode": {
    "name": "ipython",
    "version": 3
   },
   "file_extension": ".py",
   "mimetype": "text/x-python",
   "name": "python",
   "nbconvert_exporter": "python",
   "pygments_lexer": "ipython3",
   "version": "3.12.7"
  }
 },
 "nbformat": 4,
 "nbformat_minor": 5
}
